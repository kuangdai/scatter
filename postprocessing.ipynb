{
 "cells": [
  {
   "cell_type": "code",
   "execution_count": null,
   "metadata": {},
   "outputs": [],
   "source": [
    "import numpy as np\n",
    "import matplotlib.pyplot as plt\n",
    "from pathlib import Path\n",
    "from netCDF4 import Dataset\n",
    "from tqdm import tqdm\n",
    "from scipy.signal import fftconvolve\n",
    "\n",
    "from obspy.geodetics.base import locations2degrees\n",
    "from obspy.taup import TauPyModel\n",
    "from obspy.core.trace import Stats, Trace, UTCDateTime"
   ]
  },
  {
   "cell_type": "markdown",
   "metadata": {},
   "source": [
    "# Read event and station info"
   ]
  },
  {
   "cell_type": "code",
   "execution_count": null,
   "metadata": {},
   "outputs": [],
   "source": [
    "# simulation name\n",
    "simulation_name = 'prem_5s__no_3d_mantle_crust__no_hetero'\n",
    "input_dir = Path('simulations/' + simulation_name + '/input')\n",
    "\n",
    "# stations\n",
    "s_data = np.loadtxt(f'{input_dir}/STATIONS', dtype=str)\n",
    "s_name = s_data[:, 0]\n",
    "s_network = s_data[:, 1]\n",
    "s_lat = s_data[:, 2].astype(float)\n",
    "s_lon = s_data[:, 3].astype(float)\n",
    "s_dep = s_data[:, 5].astype(float)\n",
    "s_lon[s_lon < 0] += 360.\n",
    "\n",
    "# earthquake\n",
    "e_data = np.loadtxt(f'{input_dir}/CMTSOLUTION', skiprows=1, dtype=str, delimiter=':')\n",
    "e_lat = float(e_data[3, 1])\n",
    "e_lon = float(e_data[4, 1])\n",
    "e_dep = float(e_data[5, 1])\n",
    "if e_lon < 0:\n",
    "    e_lon += 360."
   ]
  },
  {
   "cell_type": "markdown",
   "metadata": {},
   "source": [
    "# Compute distances and travel times\n"
   ]
  },
  {
   "cell_type": "code",
   "execution_count": null,
   "metadata": {},
   "outputs": [],
   "source": [
    "distances = []\n",
    "needed_phases = {'P': ['P', 'Pdiff'], 'PcP': ['PcP'], 'pP': ['pP', 'pPdiff']}\n",
    "all_needed = []\n",
    "for phases in needed_phases.values():\n",
    "    all_needed += phases\n",
    "travel_times = {key: [] for key in needed_phases.keys()}\n",
    "\n",
    "taup_model = TauPyModel(model=\"prem\")\n",
    "for lat, lon in tqdm(zip(s_lat, s_lon), total=len(s_lat)):\n",
    "    # taup ray tracing\n",
    "    distance = locations2degrees(lat, lon, e_lat, e_lon)\n",
    "    distances.append(distance)\n",
    "    arrivals = taup_model.get_travel_times(source_depth_in_km=e_dep,\n",
    "                                           distance_in_degree=distance,\n",
    "                                           phase_list=all_needed)\n",
    "    for phase in needed_phases.keys():\n",
    "        # use inf if no such phase\n",
    "        t_res = np.inf\n",
    "        for arr in arrivals:\n",
    "            if arr.name in needed_phases[phase]:\n",
    "                t_res = arr.time\n",
    "        travel_times[phase].append(t_res)\n",
    "\n",
    "distances = np.array(distances)\n",
    "for key in needed_phases.keys():\n",
    "    travel_times[key] = np.array(travel_times[key])"
   ]
  },
  {
   "cell_type": "markdown",
   "metadata": {},
   "source": [
    "# Read, process and plot seismograms"
   ]
  },
  {
   "cell_type": "code",
   "execution_count": null,
   "metadata": {},
   "outputs": [],
   "source": [
    "def read_process_seis(output_dir, mesh_period, channel=2, sampling_rate=None, \n",
    "                      gaussian_noise_level=0.):\n",
    "    seis = []\n",
    "    with Dataset(output_dir / 'stations/axisem3d_synthetics.nc', 'r') as nc:\n",
    "        # header\n",
    "        times = nc.variables['time_points'][:]\n",
    "        stats = Stats()\n",
    "        stats.npts = len(times)\n",
    "        stats.delta = times[1] - times[0]\n",
    "        stats.starttime = UTCDateTime(times[0])\n",
    "        \n",
    "        # source-time function\n",
    "        hdur = mesh_period / 1.5\n",
    "        decay = 1.628\n",
    "        nstf = int(np.ceil(2.5 * hdur / stats.delta))\n",
    "        tstf = np.arange(-nstf, nstf + 1) * stats.delta\n",
    "        stf = np.exp(-np.power((decay / hdur * tstf), 2.)) * decay / (hdur * np.sqrt(np.pi))\n",
    "        stf /= stf.sum()\n",
    "        \n",
    "        # filter window\n",
    "        tmin = mesh_period * 0.8\n",
    "        tmax = mesh_period * 20.\n",
    "\n",
    "        for name, network in tqdm(zip(s_name, s_network), total=len(s_lat)):\n",
    "            # read\n",
    "            data = nc.variables[f'{network}.{name}.RTZ'][:, channel]\n",
    "            # convolve with stf\n",
    "            data = fftconvolve(data, stf, mode='same')\n",
    "            # noise\n",
    "            noise = np.random.normal(scale=np.std(data) * gaussian_noise_level, size=data.shape)\n",
    "            # trace\n",
    "            trace = Trace(data + noise, header=stats)\n",
    "            # filter\n",
    "            trace = trace.filter('bandpass', freqmin=1 / tmax, freqmax=1 / tmin)\n",
    "            # resample and trim\n",
    "            if sampling_rate is None:\n",
    "                sampling_rate = stats.sampling_rate\n",
    "            trace.interpolate(sampling_rate, starttime=0)\n",
    "            seis.append(trace)\n",
    "    return seis"
   ]
  },
  {
   "cell_type": "code",
   "execution_count": null,
   "metadata": {},
   "outputs": [],
   "source": [
    "def plot_record_section(seis_plot, seis_ref=None, zoom_factor=3e3, \n",
    "                        start_index=0, end_index=300, align='P', title=''):\n",
    "    # plot a subset of stations\n",
    "    loc = slice(start_index, end_index)\n",
    "    plt.figure(dpi=200, figsize=(4, 6))\n",
    "    for i, (distance, seis, align_time) in enumerate(zip(distances[loc], seis_plot[loc], \n",
    "                                                     travel_times[align][loc])):\n",
    "        if seis_ref is None:\n",
    "            plt.plot(seis.times() - align_time, \n",
    "                     seis.data * zoom_factor + distance, c='k', lw=.4)\n",
    "        else:\n",
    "            min_len = min(len(seis.data), len(seis_ref[loc][i].data))\n",
    "            data_plot = seis.data[:min_len] - seis_ref[loc][i].data[:min_len]\n",
    "            plt.plot((seis.times() - align_time)[:min_len], \n",
    "                     data_plot * zoom_factor + distance, c='k', lw=.4)\n",
    "\n",
    "    # plot travel times\n",
    "    idx_sort = np.argsort(distances)\n",
    "    for phase in travel_times.keys():\n",
    "        t_plot = travel_times[phase][idx_sort] - travel_times[align][idx_sort]\n",
    "        plt.plot(t_plot, distances[idx_sort], lw=1, c='b')\n",
    "        plt.text(t_plot[0], distances[idx_sort][0], \n",
    "                 phase, ha='center', va='top', c='b', rotation=90)\n",
    "    plt.xlim(-50, 200)\n",
    "    plt.xlabel('Time after P-arrival (sec)')\n",
    "    plt.ylabel('Epicentral distance (deg)')\n",
    "    plt.title(title, fontsize=10)\n",
    "    plt.show()"
   ]
  },
  {
   "cell_type": "code",
   "execution_count": null,
   "metadata": {},
   "outputs": [],
   "source": [
    "simulation_name_1d = 'prem_5s__no_3d_mantle_crust__no_hetero'\n",
    "simulation_name_3d = 'prem_5s__no_3d_mantle_crust__hetero_fuji_pacific_usarray'\n",
    "output_dir_1d = Path('results/' + simulation_name_1d + '/output')\n",
    "output_dir_3d = Path('results/' + simulation_name_3d + '/output')"
   ]
  },
  {
   "cell_type": "code",
   "execution_count": null,
   "metadata": {},
   "outputs": [],
   "source": [
    "# read seismograms\n",
    "seis_1d = read_process_seis(output_dir_1d, mesh_period=5)\n",
    "seis_3d = read_process_seis(output_dir_3d, mesh_period=5)"
   ]
  },
  {
   "cell_type": "code",
   "execution_count": null,
   "metadata": {
    "scrolled": false
   },
   "outputs": [],
   "source": [
    "# plot seismograms\n",
    "plot_record_section(seis_1d, title='1D total wave')\n",
    "plot_record_section(seis_3d, title='3D total wave')\n",
    "plot_record_section(seis_3d, seis_ref=seis_1d, title='3D scattered wave', zoom_factor=6e3)"
   ]
  },
  {
   "cell_type": "markdown",
   "metadata": {},
   "source": [
    "# Add Gaussian noise\n",
    "\n",
    "Use `gaussian_noise_level` in `read_process_seis()` to add noise to synthetic data, where `gaussian_noise_level` specifies the ratio `std(noise) / std(data)`."
   ]
  },
  {
   "cell_type": "code",
   "execution_count": null,
   "metadata": {},
   "outputs": [],
   "source": [
    "seis_3d_noise = read_process_seis(output_dir_3d, mesh_period=5, \n",
    "                                  gaussian_noise_level=2.)\n",
    "plot_record_section(seis_3d_noise, title='3D total wave with Gaussian noise')"
   ]
  },
  {
   "cell_type": "code",
   "execution_count": null,
   "metadata": {},
   "outputs": [],
   "source": []
  }
 ],
 "metadata": {
  "kernelspec": {
   "display_name": "Python 3",
   "language": "python",
   "name": "python3"
  },
  "language_info": {
   "codemirror_mode": {
    "name": "ipython",
    "version": 3
   },
   "file_extension": ".py",
   "mimetype": "text/x-python",
   "name": "python",
   "nbconvert_exporter": "python",
   "pygments_lexer": "ipython3",
   "version": "3.8.8"
  }
 },
 "nbformat": 4,
 "nbformat_minor": 4
}
